{
 "cells": [
  {
   "cell_type": "code",
   "execution_count": 1,
   "metadata": {},
   "outputs": [],
   "source": [
    "import math\n",
    "from sympy import *\n",
    "from sympy.plotting import plot\n",
    "from sympy import Interval, symbols, solveset\n",
    "init_printing()"
   ]
  },
  {
   "cell_type": "code",
   "execution_count": 2,
   "metadata": {},
   "outputs": [],
   "source": [
    "x = Symbol('x')\n",
    "fx = sin(x)*sin(x) - cos(x)*cos(x)"
   ]
  },
  {
   "cell_type": "code",
   "execution_count": 3,
   "metadata": {},
   "outputs": [
    {
     "data": {
      "text/latex": [
       "$\\displaystyle \\left\\{n \\pi + \\frac{\\pi}{4}\\; \\middle|\\; n \\in \\mathbb{Z}\\right\\} \\cup \\left\\{n \\pi + \\frac{3 \\pi}{4}\\; \\middle|\\; n \\in \\mathbb{Z}\\right\\}$"
      ],
      "text/plain": [
       "⎧      π │      ⎫   ⎧      3⋅π │      ⎫\n",
       "⎨n⋅π + ─ │ n ∊ ℤ⎬ ∪ ⎨n⋅π + ─── │ n ∊ ℤ⎬\n",
       "⎩      4 │      ⎭   ⎩       4  │      ⎭"
      ]
     },
     "execution_count": 3,
     "metadata": {},
     "output_type": "execute_result"
    }
   ],
   "source": [
    "solveset(Eq(sin(x)*sin(x) - cos(x)*cos(x),0),x)"
   ]
  },
  {
   "cell_type": "code",
   "execution_count": 4,
   "metadata": {},
   "outputs": [
    {
     "data": {
      "text/latex": [
       "$\\displaystyle 0 < x \\wedge x < \\frac{\\pi}{2}$"
      ],
      "text/plain": [
       "            π\n",
       "0 < x ∧ x < ─\n",
       "            2"
      ]
     },
     "execution_count": 4,
     "metadata": {},
     "output_type": "execute_result"
    }
   ],
   "source": [
    "solve(diff(fx)>0)"
   ]
  },
  {
   "cell_type": "code",
   "execution_count": 5,
   "metadata": {},
   "outputs": [
    {
     "data": {
      "text/latex": [
       "$\\displaystyle \\frac{\\pi}{2} < x \\wedge x < \\pi$"
      ],
      "text/plain": [
       "π            \n",
       "─ < x ∧ x < π\n",
       "2            "
      ]
     },
     "execution_count": 5,
     "metadata": {},
     "output_type": "execute_result"
    }
   ],
   "source": [
    "solve(diff(fx)<0)"
   ]
  },
  {
   "cell_type": "code",
   "execution_count": 6,
   "metadata": {},
   "outputs": [
    {
     "name": "stdout",
     "output_type": "stream",
     "text": [
      "      1 | ..               ..               ..               .. \n",
      "        |   .                .             .                .   \n",
      "        |.                .                   .                .\n",
      "        |                                                       \n",
      "        |    .           .    .           .    .           .    \n",
      "        |                                                       \n",
      "        |                                                       \n",
      "        |     .         .      .         .      .         .     \n",
      "        |                                                       \n",
      "        |                                                       \n",
      "      0 |-------------------------------------------------------\n",
      "        |      .       .        .       .        .       .      \n",
      "        |                                                       \n",
      "        |                                                       \n",
      "        |       .                .     .                .       \n",
      "        |             .                           .             \n",
      "        |                                                       \n",
      "        |        .   .            .   .            .   .        \n",
      "        |                                                       \n",
      "        |         . .              . .              . .         \n",
      "     -1 |_______________________________________________________\n",
      "         -5                         0                          5\n"
     ]
    }
   ],
   "source": [
    "p = plot(fx, (x, -5, 5), line_color='red')"
   ]
  },
  {
   "cell_type": "code",
   "execution_count": 7,
   "metadata": {},
   "outputs": [
    {
     "data": {
      "text/latex": [
       "$\\displaystyle \\left[ 0, \\  \\frac{\\pi}{2}, \\  \\pi, \\  \\frac{3 \\pi}{2}\\right]$"
      ],
      "text/plain": [
       "⎡   π     3⋅π⎤\n",
       "⎢0, ─, π, ───⎥\n",
       "⎣   2      2 ⎦"
      ]
     },
     "execution_count": 7,
     "metadata": {},
     "output_type": "execute_result"
    }
   ],
   "source": [
    "solve(diff(fx))"
   ]
  },
  {
   "cell_type": "code",
   "execution_count": 8,
   "metadata": {},
   "outputs": [
    {
     "name": "stdout",
     "output_type": "stream",
     "text": [
      "(pi/4 < x) & (x < 3*pi/4)\n"
     ]
    }
   ],
   "source": [
    "print(solve(fx>0))"
   ]
  },
  {
   "cell_type": "code",
   "execution_count": 9,
   "metadata": {},
   "outputs": [
    {
     "name": "stdout",
     "output_type": "stream",
     "text": [
      "((0 <= x) & (x < pi/4)) | ((x < pi) & (3*pi/4 < x))\n"
     ]
    }
   ],
   "source": [
    "print(solve(fx<0))"
   ]
  }
 ],
 "metadata": {
  "kernelspec": {
   "display_name": "Python 3.11.0 64-bit",
   "language": "python",
   "name": "python3"
  },
  "language_info": {
   "codemirror_mode": {
    "name": "ipython",
    "version": 3
   },
   "file_extension": ".py",
   "mimetype": "text/x-python",
   "name": "python",
   "nbconvert_exporter": "python",
   "pygments_lexer": "ipython3",
   "version": "3.11.0"
  },
  "orig_nbformat": 4,
  "vscode": {
   "interpreter": {
    "hash": "aee8b7b246df8f9039afb4144a1f6fd8d2ca17a180786b69acc140d282b71a49"
   }
  }
 },
 "nbformat": 4,
 "nbformat_minor": 2
}
